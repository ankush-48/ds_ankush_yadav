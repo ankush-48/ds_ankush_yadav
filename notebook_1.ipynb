{
  "nbformat": 4,
  "nbformat_minor": 0,
  "metadata": {
    "colab": {
      "provenance": []
    },
    "kernelspec": {
      "name": "python3",
      "display_name": "Python 3"
    },
    "language_info": {
      "name": "python"
    }
  },
  "cells": [
    {
      "cell_type": "code",
      "execution_count": 3,
      "metadata": {
        "colab": {
          "base_uri": "https://localhost:8080/"
        },
        "id": "Gx_zQP49L_Wh",
        "outputId": "4fa3dafe-328d-4a66-956c-5768db7c4dfc"
      },
      "outputs": [
        {
          "output_type": "stream",
          "name": "stderr",
          "text": [
            "/tmp/ipython-input-3-980723485.py:51: FutureWarning: \n",
            "\n",
            "Passing `palette` without assigning `hue` is deprecated and will be removed in v0.14.0. Assign the `x` variable to `hue` and set `legend=False` for the same effect.\n",
            "\n",
            "  sns.boxplot(data=merged_df, x='classification', y='total_volume_usd', palette='coolwarm', ax=ax)\n",
            "/tmp/ipython-input-3-980723485.py:57: FutureWarning: \n",
            "\n",
            "Passing `palette` without assigning `hue` is deprecated and will be removed in v0.14.0. Assign the `x` variable to `hue` and set `legend=False` for the same effect.\n",
            "\n",
            "  sns.boxplot(data=merged_df, x='classification', y='avg_pnl', palette='vlag', ax=ax)\n"
          ]
        }
      ],
      "source": [
        "# Web3 Trading Analysis - Fear & Greed vs Trader Behavior\n",
        "\n",
        "import pandas as pd\n",
        "import matplotlib.pyplot as plt\n",
        "import seaborn as sns\n",
        "import os\n",
        "\n",
        "# Load datasets\n",
        "fear_greed_df = pd.read_csv(\"fear_greed_index.csv\")\n",
        "historical_df = pd.read_csv(\"historical_data.csv\")\n",
        "\n",
        "# Convert Timestamp to datetime and extract date\n",
        "historical_df['Timestamp IST'] = pd.to_datetime(historical_df['Timestamp IST'], format='%d-%m-%Y %H:%M')\n",
        "historical_df['date'] = historical_df['Timestamp IST'].dt.date\n",
        "\n",
        "# Aggregate trader metrics by date\n",
        "agg_historical = historical_df.groupby('date').agg({\n",
        "    'Execution Price': 'mean',\n",
        "    'Size USD': ['sum', 'mean'],\n",
        "    'Closed PnL': ['sum', 'mean'],\n",
        "    'Start Position': 'mean',\n",
        "    'Fee': 'mean',\n",
        "    'Account': 'nunique'\n",
        "}).reset_index()\n",
        "\n",
        "# Flatten column names\n",
        "agg_historical.columns = ['date', 'avg_execution_price', 'total_volume_usd', 'avg_volume_usd',\n",
        "                          'total_pnl', 'avg_pnl', 'avg_position', 'avg_fee', 'unique_traders']\n",
        "\n",
        "# Convert date columns to datetime\n",
        "agg_historical['date'] = pd.to_datetime(agg_historical['date'])\n",
        "fear_greed_df['date'] = pd.to_datetime(fear_greed_df['date'])\n",
        "\n",
        "# Merge datasets\n",
        "merged_df = pd.merge(agg_historical, fear_greed_df[['date', 'classification', 'value']], on='date', how='left')\n",
        "\n",
        "# Create directories if they don't exist\n",
        "os.makedirs('csv_files', exist_ok=True)\n",
        "os.makedirs('outputs', exist_ok=True)\n",
        "\n",
        "# Save processed data\n",
        "merged_df.to_csv(\"csv_files/processed_data.csv\", index=False)\n",
        "\n",
        "# Create output charts\n",
        "def save_chart(fig, filename):\n",
        "    fig.savefig(f\"outputs/{filename}\", bbox_inches='tight')\n",
        "    plt.close(fig)\n",
        "\n",
        "# 1. Volume vs Sentiment\n",
        "fig, ax = plt.subplots(figsize=(10,6))\n",
        "sns.boxplot(data=merged_df, x='classification', y='total_volume_usd', palette='coolwarm', ax=ax)\n",
        "ax.set_title('Total Volume by Sentiment')\n",
        "save_chart(fig, \"volume_vs_sentiment.png\")\n",
        "\n",
        "# 2. Avg PnL vs Sentiment\n",
        "fig, ax = plt.subplots(figsize=(10,6))\n",
        "sns.boxplot(data=merged_df, x='classification', y='avg_pnl', palette='vlag', ax=ax)\n",
        "ax.set_title('Average PnL by Sentiment')\n",
        "save_chart(fig, \"pnl_vs_sentiment.png\")\n",
        "\n",
        "# 3. Unique Traders vs Sentiment Index\n",
        "fig, ax = plt.subplots(figsize=(10,6))\n",
        "sns.scatterplot(data=merged_df, x='value', y='unique_traders', hue='classification', palette='Set2', ax=ax)\n",
        "ax.set_title('Unique Traders vs Fear & Greed Index')\n",
        "save_chart(fig, \"traders_vs_index.png\")"
      ]
    }
  ]
}